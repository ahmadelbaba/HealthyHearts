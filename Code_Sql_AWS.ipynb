{
 "cells": [
  {
   "cell_type": "code",
   "execution_count": 1,
   "id": "0d517664",
   "metadata": {},
   "outputs": [],
   "source": [
    "import sqlalchemy\n",
    "import psycopg2\n",
    "from sqlalchemy import create_engine\n",
    "import pandas as pd\n",
    "\n",
    "from config import DB_USER, DB_PASS, DB_HOST, DB_NAME"
   ]
  },
  {
   "cell_type": "code",
   "execution_count": 2,
   "id": "b9fa40d3",
   "metadata": {},
   "outputs": [],
   "source": [
    "# This is set up to use a postgres database! You can also use MySQL, Oracle, etc. Just check the SQLAlchemy documentation\n",
    "engine = create_engine(f\"postgresql://{DB_USER}:{DB_PASS}@{DB_HOST}:5432/{DB_NAME}\")"
   ]
  },
  {
   "cell_type": "code",
   "execution_count": 4,
   "id": "bf0f7d19",
   "metadata": {},
   "outputs": [],
   "source": [
    "heart_disease_df = pd.read_csv(\"Resources/health_info_updated.csv\")\n",
    "gender_df = pd.read_csv(\"Resources/gender_info.csv\")\n",
    "age_df = pd.read_csv(\"Resources/age_info.csv\")\n",
    "race_df = pd.read_csv(\"Resources/race_info.csv\")"
   ]
  },
  {
   "cell_type": "code",
   "execution_count": 5,
   "id": "a60b8e6e",
   "metadata": {},
   "outputs": [],
   "source": [
    "# To_sql takes your dataframe and sends it to the database\n",
    "#     name parameter is the name of your table\n",
    "#     con parameter hooks up to the database connection we created earlier\n",
    "heart_disease_df.to_sql(name=\"heart_health_info\",con=engine)\n",
    "gender_df.to_sql(name=\"demographic_gender\",con=engine)\n",
    "age_df.to_sql(name=\"demographic_age\",con=engine)\n",
    "race_df.to_sql(name=\"demographic_race\",con=engine)"
   ]
  }
 ],
 "metadata": {
  "kernelspec": {
   "display_name": "PythonData",
   "language": "python",
   "name": "pythondata"
  },
  "language_info": {
   "codemirror_mode": {
    "name": "ipython",
    "version": 3
   },
   "file_extension": ".py",
   "mimetype": "text/x-python",
   "name": "python",
   "nbconvert_exporter": "python",
   "pygments_lexer": "ipython3",
   "version": "3.7.11"
  }
 },
 "nbformat": 4,
 "nbformat_minor": 5
}
